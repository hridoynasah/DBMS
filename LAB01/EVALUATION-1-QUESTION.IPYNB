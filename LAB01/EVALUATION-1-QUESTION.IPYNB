{
 "cells": [
  {
   "cell_type": "markdown",
   "metadata": {},
   "source": [
    "### **Lab Evaluation Question**\n",
    "\n",
    "1. Create a database named **`SS`** and a table **`EMPLOYEE`** with appropriate columns to store employee information.\n",
    "2. Insert the following employees into the **`EMPLOYEE`** table:\n",
    "\n",
    "   - (1, \"JHON\", \"DEO\", \"HR\", 50000, \"2022-01-10\")\n",
    "   - (2, \"JANE\", \"SMITH\", \"IT\", 60000, \"2023-03-12\")\n",
    "   - (3, \"ALICE\", \"JOHNSON\", \"HR\", 35000, \"2020-05-03\")\n",
    "   - (4, \"BOB\", \"BROWN\", \"FINANCE\", 62000, \"2021-05-15\")\n",
    "   - (5, \"CHARLIE\", \"DAVINS\", \"IT\", 75000, \"2017-04-07\")\n",
    "   - (6, \"EVE\", \"WILLIAMS\", \"MARKETING\", 45000, \"2024-08-13\")\n",
    "\n",
    "3. Update the salary of the employee with **EMP_ID = 3** to **58000**.\n",
    "4. Write a query to find all employees in the **IT** department who have a salary greater than **60000**.\n",
    "5. Write a query to find all employees whose salary is **not equal to 60000**.\n",
    "6. Write a query to find employees who were hired between **January 1, 2019, and January 1, 2020**.\n",
    "7. Retrieve all employees whose **last name contains the letter 'o'** but **does not start with 'B'**.\n",
    "8. Delete the employee with **EMP_ID = 5** from the table.\n"
   ]
  }
 ],
 "metadata": {
  "language_info": {
   "name": "python"
  }
 },
 "nbformat": 4,
 "nbformat_minor": 2
}
